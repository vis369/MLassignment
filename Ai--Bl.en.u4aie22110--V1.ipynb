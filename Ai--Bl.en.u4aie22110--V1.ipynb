{
 "cells": [
  {
   "cell_type": "code",
   "execution_count": 15,
   "id": "4dee87f9",
   "metadata": {},
   "outputs": [
    {
     "name": "stdout",
     "output_type": "stream",
     "text": [
      "Enter the String to count the Number of vowels and consonents :vishnu\n",
      "(2, 4)\n"
     ]
    }
   ],
   "source": [
    "##Qn.1\n",
    "#using counting function to count vowels and consonennts\n",
    "def counting(var):\n",
    "    vowels = \"AaEeIiOoUu\"  #taken vowels as string\n",
    "    count_vowels = 0\n",
    "    count_consonents = 0\n",
    "    for i in var:\n",
    "            if i in vowels: #checking if the letter is vowel or not\n",
    "                count_vowels +=1\n",
    "            else:\n",
    "                count_consonents += 1\n",
    "    return count_vowels,count_consonents    #returning the counted vowels and consonents\n",
    "\n",
    "variable= input(\"Enter the String to count the Number of vowels and consonents :\")\n",
    "print(counting(variable))   #printing the output giving the parameters  variable"
   ]
  },
  {
   "cell_type": "code",
   "execution_count": 21,
   "id": "8f2355e9",
   "metadata": {},
   "outputs": [
    {
     "name": "stdout",
     "output_type": "stream",
     "text": [
      "Enter the number of elemnts do you want to enter3\n",
      "Enter the numbers of l1 \n",
      "1\n",
      "2\n",
      "3\n",
      "Enter the numbers of l2\n",
      "3\n",
      "4\n",
      "5\n",
      "[3]\n"
     ]
    }
   ],
   "source": [
    "#Question 3\n",
    "\n",
    "# taken empty lists of l1 and L2\n",
    "l1 = []\n",
    "l2 = []\n",
    "\n",
    "# Enter the number we need as input\n",
    "n = int(input(\"Enter the number of elemnts do you want to enter\"))\n",
    "# giving input for the list l1\n",
    "print(\"Enter the numbers of l1 \")\n",
    "for i in range(n):\n",
    "    numl1 = int(input())\n",
    "    l1.append(numl1)\n",
    "# giving input for the list l2\n",
    "print(\"Enter the numbers of l2\")\n",
    "for i in range(n):\n",
    "    numl2 = int(input())\n",
    "    l2.append(numl2)\n",
    "\n",
    "# taken a function  paramenter as list1 and list2\n",
    "def commenelemnts(list1,list2):\n",
    "    common = [] # taken empty list for common elements\n",
    "    for i in list1:\n",
    "        for j in list2:\n",
    "            if i == j:\n",
    "                common.append(i)\n",
    "    return common    # returning the  common elements list\n",
    "\n",
    "print(commenelemnts(l1,l2))  #printing the output with given parameter as l1 and l2\n",
    "                "
   ]
  },
  {
   "cell_type": "code",
   "execution_count": 29,
   "id": "4a31ddc5",
   "metadata": {},
   "outputs": [
    {
     "name": "stdout",
     "output_type": "stream",
     "text": [
      "Enter the no.of rows in matrix\n",
      "2\n",
      "Enter the no.of coloumns in matrix\n",
      "2\n",
      "Enter the  elements in the matrix\n",
      "Enter the number in the postion of 1,11\n",
      "Enter the number in the postion of 1,22\n",
      "Enter the number in the postion of 2,13\n",
      "Enter the number in the postion of 2,24\n",
      "([[1, 2], [3, 4]], [[1, 3], [2, 4]])\n"
     ]
    }
   ],
   "source": [
    "#Question 4\n",
    "\n",
    "# transpose matrix  conversion  taking parameters as rows and cols\n",
    "def Transpose_matrix(row,col):\n",
    "    matrix = []\n",
    "    transpose_matrix = []\n",
    "    for i in range(rows):  # Taking required rows as input\n",
    "        matrix_row = []\n",
    "        transpose_matrix_row = []\n",
    "        for j in range(cols):  # Taking required columns as input\n",
    "            #Entering the numbers in the matrix and transpose matrix\n",
    "            num = int(input(f\"Enter the number in the postion of {i+1},{j+1}\"))\n",
    "            matrix_row.append(num)\n",
    "            transpose_matrix_row.append(num)\n",
    "        matrix.append( matrix_row)  \n",
    "        transpose_matrix.append(transpose_matrix_row)\n",
    "        \n",
    "        #returning the matrix and transpose matrix \n",
    "        # In the transpose matrix  we are reversing the rows and columns\n",
    "    return matrix,[[transpose_matrix[j][i] for j in range(rows)] for i in range(cols)] \n",
    "\n",
    "print(\"Enter the no.of rows in matrix\")    # Entering the required rows\n",
    "rows =  int(input())\n",
    "print(\"Enter the no.of coloumns in matrix\")    # Entering the required columns\n",
    "cols =  int(input())\n",
    "print(\"Enter the  elements in the matrix\")\n",
    "print(Transpose_matrix(rows,cols))  # printing the output as matrix and transpose_matrix\n"
   ]
  },
  {
   "cell_type": "code",
   "execution_count": 9,
   "id": "2abfe0f8",
   "metadata": {},
   "outputs": [
    {
     "name": "stdout",
     "output_type": "stream",
     "text": [
      "Enter two Matrices A and B\n",
      "Enter how many rows do you need for the matix A\n",
      "2\n",
      "Enter how many columns do you need for the matix A\n",
      "2\n",
      "enter the numbers in the position of 1,1  :\n",
      "1\n",
      "enter the numbers in the position of 1,2  :\n",
      "2\n",
      "enter the numbers in the position of 2,1  :\n",
      "3\n",
      "enter the numbers in the position of 2,2  :\n",
      "4\n",
      "Enter how many rows do you need for the matix B\n",
      "2\n",
      "Enter how many columns do you need for the matix B\n",
      "2\n",
      "enter the numbers in the position of 1,1  :\n",
      "5\n",
      "enter the numbers in the position of 1,2  :\n",
      "6\n",
      "enter the numbers in the position of 2,1  :\n",
      "7\n",
      "enter the numbers in the position of 2,2  :\n",
      "8\n",
      "Result of the matrix A and B is :\n",
      "[19, 22]\n",
      "[43, 50]\n"
     ]
    }
   ],
   "source": [
    "#Question 2\n",
    "print(\"Enter two Matrices A and B\")\n",
    "Matrix_A = []\n",
    "Matrix_B = []\n",
    "\n",
    "#Matrix A\n",
    "print(\"Enter how many rows do you need for the matix A\")\n",
    "row_A = int(input())\n",
    "print(\"Enter how many columns do you need for the matix A\")\n",
    "col_A = int(input())\n",
    "for i in range(row_A):\n",
    "    matrix_row_A=[]\n",
    "    for j in range(col_A):\n",
    "        print(f\"enter the numbers in the position of {i+1},{j+1}  :\")\n",
    "        num = int(input())\n",
    "        matrix_row_A.append(num)\n",
    "    Matrix_A.append(matrix_row_A)\n",
    "\n",
    "#Matrix B\n",
    "print(\"Enter how many rows do you need for the matix B\")\n",
    "row_B = int(input())\n",
    "print(\"Enter how many columns do you need for the matix B\")\n",
    "col_B = int(input())\n",
    "for i in range(row_B):\n",
    "    matrix_row_B=[]\n",
    "    for j in range(col_B):\n",
    "        print(f\"enter the numbers in the position of {i+1},{j+1}  :\")\n",
    "        num = int(input())\n",
    "        matrix_row_B.append(num)\n",
    "    Matrix_B.append(matrix_row_B)\n",
    "\n",
    "    #Multiplication of matrix of A and B taking matrices of A and B\n",
    "def multiplication(mat_A,mat_B):\n",
    "    if len(mat_A[0]) != len(mat_B):   #checking the matrix can be multiplied or Not\n",
    "        return \"Error : no.of columns in A should be equal to no.of rows in b\"\n",
    "    product_matrix = [[0 for _ in range(len(mat_B[0]))] for _ in range(len(mat_A[0]))]\n",
    "    for i in range(len(mat_A)):\n",
    "        for j in range(len(mat_B[0])):\n",
    "            for k in range(len(mat_B)):\n",
    "                product_matrix[i][j] += mat_A[i][k] * mat_B[k][j]   #Matrix multiplication\n",
    "                \n",
    "    return product_matrix   #return the product Matrix\n",
    "\n",
    "\n",
    "result = multiplication(Matrix_A,Matrix_B)\n",
    "if result:\n",
    "    print(\"Result of the matrix A and B is :\")\n",
    "    for row in result:\n",
    "        print(row)  # printing the matrix\n",
    "    \n",
    "        \n"
   ]
  },
  {
   "cell_type": "code",
   "execution_count": null,
   "id": "2e30b684",
   "metadata": {},
   "outputs": [],
   "source": []
  }
 ],
 "metadata": {
  "kernelspec": {
   "display_name": "Python 3 (ipykernel)",
   "language": "python",
   "name": "python3"
  },
  "language_info": {
   "codemirror_mode": {
    "name": "ipython",
    "version": 3
   },
   "file_extension": ".py",
   "mimetype": "text/x-python",
   "name": "python",
   "nbconvert_exporter": "python",
   "pygments_lexer": "ipython3",
   "version": "3.11.4"
  }
 },
 "nbformat": 4,
 "nbformat_minor": 5
}
